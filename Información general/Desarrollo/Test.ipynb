{
 "cells": [
  {
   "cell_type": "markdown",
   "id": "9bc5b92f",
   "metadata": {},
   "source": [
    "#### Intro "
   ]
  },
  {
   "cell_type": "code",
   "execution_count": 3,
   "id": "8cc6ae5e",
   "metadata": {},
   "outputs": [
    {
     "name": "stdout",
     "output_type": "stream",
     "text": [
      "hola mundo de nuevo 097\n"
     ]
    }
   ],
   "source": [
    "print (\"hola mundo de nuevo 097\")"
   ]
  },
  {
   "cell_type": "markdown",
   "id": "c6ac95ac",
   "metadata": {},
   "source": [
    "#### Outro"
   ]
  },
  {
   "cell_type": "code",
   "execution_count": 4,
   "id": "78ae5ed6",
   "metadata": {},
   "outputs": [
    {
     "name": "stdout",
     "output_type": "stream",
     "text": [
      "21 tres 4\n"
     ]
    }
   ],
   "source": [
    "print (\"21 tres 4\")"
   ]
  }
 ],
 "metadata": {
  "kernelspec": {
   "display_name": "Python 3",
   "language": "python",
   "name": "python3"
  },
  "language_info": {
   "codemirror_mode": {
    "name": "ipython",
    "version": 3
   },
   "file_extension": ".py",
   "mimetype": "text/x-python",
   "name": "python",
   "nbconvert_exporter": "python",
   "pygments_lexer": "ipython3",
   "version": "3.11.9"
  }
 },
 "nbformat": 4,
 "nbformat_minor": 5
}
