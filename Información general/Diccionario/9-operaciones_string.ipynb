{
 "cells": [
  {
   "cell_type": "markdown",
   "id": "0ab41681",
   "metadata": {},
   "source": [
    "##### Interpolación (variables y strings)"
   ]
  },
  {
   "cell_type": "code",
   "execution_count": null,
   "id": "c1097920",
   "metadata": {},
   "outputs": [
    {
     "name": "stdout",
     "output_type": "stream",
     "text": [
      "Mi nombre es Julio y mi apellido es Epumer\n"
     ]
    }
   ],
   "source": [
    "nombre = \"Julio\"\n",
    "apellido = 'Epumer'\n",
    "\n",
    "print(f\"Mi nombre es {nombre} y mi apellido es {apellido}\")"
   ]
  },
  {
   "cell_type": "markdown",
   "id": "80b60437",
   "metadata": {},
   "source": [
    "##### Slicing (rebanar)"
   ]
  },
  {
   "cell_type": "code",
   "execution_count": 2,
   "id": "374f8872",
   "metadata": {},
   "outputs": [
    {
     "name": "stdout",
     "output_type": "stream",
     "text": [
      "u\n",
      "e\n",
      "uli\n"
     ]
    }
   ],
   "source": [
    "nombre = \"Julio\"\n",
    "apellido = 'Epumer'\n",
    "print(nombre[1])\n",
    "print(apellido[-2])\n",
    "print(nombre[1:4])"
   ]
  },
  {
   "cell_type": "markdown",
   "id": "75001e2d",
   "metadata": {},
   "source": [
    "##### len (cantidad de caracteres)"
   ]
  },
  {
   "cell_type": "code",
   "execution_count": 3,
   "id": "a05cf954",
   "metadata": {},
   "outputs": [
    {
     "name": "stdout",
     "output_type": "stream",
     "text": [
      "25\n"
     ]
    }
   ],
   "source": [
    "str = \"La historia de mi vida...\"\n",
    "print(len(str))"
   ]
  },
  {
   "cell_type": "markdown",
   "id": "1f3820f6",
   "metadata": {},
   "source": [
    "##### upper y lower"
   ]
  },
  {
   "cell_type": "code",
   "execution_count": 4,
   "id": "b368a47d",
   "metadata": {},
   "outputs": [
    {
     "name": "stdout",
     "output_type": "stream",
     "text": [
      "LA HISTORIA DE MI VIDA...\n",
      "la historia de mi vida...\n"
     ]
    }
   ],
   "source": [
    "str = \"LA historia de mi VIDA...\"\n",
    "print(str.upper())\n",
    "print(str.lower())  "
   ]
  },
  {
   "cell_type": "markdown",
   "id": "2966e30f",
   "metadata": {},
   "source": [
    "##### replace"
   ]
  },
  {
   "cell_type": "code",
   "execution_count": 2,
   "id": "ff34a8c5",
   "metadata": {},
   "outputs": [
    {
     "name": "stdout",
     "output_type": "stream",
     "text": [
      "XUXA\n"
     ]
    }
   ],
   "source": [
    "diva_oculta = \"CUCA\"\n",
    "print(diva_oculta.replace(\"C\", \"X\"))"
   ]
  },
  {
   "cell_type": "markdown",
   "id": "03488688",
   "metadata": {},
   "source": [
    "##### find"
   ]
  },
  {
   "cell_type": "code",
   "execution_count": 6,
   "id": "a808f5e3",
   "metadata": {},
   "outputs": [
    {
     "name": "stdout",
     "output_type": "stream",
     "text": [
      "12\n"
     ]
    }
   ],
   "source": [
    "str = \"LA historia de mi VIDA...\"\n",
    "print(str.find(\"de\"))"
   ]
  },
  {
   "cell_type": "markdown",
   "id": "ac1a1b99",
   "metadata": {},
   "source": [
    "##### strip (elimina espacios en blanco laterales)"
   ]
  },
  {
   "cell_type": "code",
   "execution_count": 8,
   "id": "a6c13861",
   "metadata": {},
   "outputs": [
    {
     "name": "stdout",
     "output_type": "stream",
     "text": [
      "34\n",
      "25\n"
     ]
    }
   ],
   "source": [
    "str = \"     LA historia de mi VIDA...    \"\n",
    "print(len(str))\n",
    "print(len(str.strip()))"
   ]
  },
  {
   "cell_type": "markdown",
   "id": "d030c263",
   "metadata": {},
   "source": [
    "##### Tabulación y salto de línea"
   ]
  },
  {
   "cell_type": "code",
   "execution_count": 4,
   "id": "9bb4ef92",
   "metadata": {},
   "outputs": [
    {
     "name": "stdout",
     "output_type": "stream",
     "text": [
      "Nombre:\tJulio\n",
      "Edad:\t25\n",
      "---\n",
      "Hola\n",
      "Mundo\n"
     ]
    }
   ],
   "source": [
    "print(\"Nombre:\\tJulio\")\n",
    "print(\"Edad:\\t25\")\n",
    "print(\"---\")\n",
    "\n",
    "print(\"Hola\\nMundo\")"
   ]
  }
 ],
 "metadata": {
  "kernelspec": {
   "display_name": "Python 3",
   "language": "python",
   "name": "python3"
  },
  "language_info": {
   "codemirror_mode": {
    "name": "ipython",
    "version": 3
   },
   "file_extension": ".py",
   "mimetype": "text/x-python",
   "name": "python",
   "nbconvert_exporter": "python",
   "pygments_lexer": "ipython3",
   "version": "3.11.9"
  }
 },
 "nbformat": 4,
 "nbformat_minor": 5
}
